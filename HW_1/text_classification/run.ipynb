{
 "cells": [
  {
   "cell_type": "code",
   "execution_count": 108,
   "metadata": {},
   "outputs": [
    {
     "name": "stdout",
     "output_type": "stream",
     "text": [
      "The autoreload extension is already loaded. To reload it, use:\n",
      "  %reload_ext autoreload\n"
     ]
    }
   ],
   "source": [
    "# some basic imports\n",
    "import numpy as np\n",
    "import matplotlib.pyplot as plt\n",
    "import scipy.sparse\n",
    "%matplotlib inline\n",
    "\n",
    "%load_ext autoreload\n",
    "%autoreload 2"
   ]
  },
  {
   "cell_type": "markdown",
   "metadata": {},
   "source": [
    "# Text Classification\n",
    "*Complete and hand in this completed worksheet (including its outputs and any supporting code outside of the worksheet) with your assignment submission. Please check the pdf file for more details.*\n",
    "\n",
    "In this exercise you will:\n",
    "    \n",
    "- implement a of spam classifier with **Naive Bayes method** for real world email messages\n",
    "- learn the **training and testing phase** for Naive Bayes classifier  \n",
    "- get an idea of the **precision-recall** tradeoff"
   ]
  },
  {
   "cell_type": "code",
   "execution_count": 109,
   "metadata": {},
   "outputs": [],
   "source": [
    "# ham_train contains the occurrences of each word in ham emails. 1-by-N vector\n",
    "ham_train = np.loadtxt('ham_train.csv', delimiter=',')\n",
    "# spam_train contains the occurrences of each word in spam emails. 1-by-N vector\n",
    "spam_train = np.loadtxt('spam_train.csv', delimiter=',')\n",
    "# N is the size of vocabulary.\n",
    "N = ham_train.shape[0]\n",
    "# There 9034 ham emails and 3372 spam emails in the training samples\n",
    "num_ham_train = 9034\n",
    "num_spam_train = 3372\n",
    "# Do smoothing\n",
    "x = np.vstack([ham_train, spam_train]) + 1\n",
    "\n",
    "# ham_test contains the occurences of each word in each ham test email. P-by-N vector, with P is number of ham test emails.\n",
    "i,j,ham_test = np.loadtxt('ham_test.txt').T\n",
    "i = i.astype(np.int)\n",
    "j = j.astype(np.int)\n",
    "ham_test_tight = scipy.sparse.coo_matrix((ham_test, (i - 1, j - 1)))\n",
    "ham_test = scipy.sparse.csr_matrix((ham_test_tight.shape[0], ham_train.shape[0]))\n",
    "ham_test[:, 0:ham_test_tight.shape[1]] = ham_test_tight\n",
    "# spam_test contains the occurences of each word in each spam test email. Q-by-N vector, with Q is number of spam test emails.\n",
    "i,j,spam_test = np.loadtxt('spam_test.txt').T\n",
    "i = i.astype(np.int)\n",
    "j = j.astype(np.int)\n",
    "spam_test_tight = scipy.sparse.csr_matrix((spam_test, (i - 1, j - 1)))\n",
    "spam_test = scipy.sparse.csr_matrix((spam_test_tight.shape[0], spam_train.shape[0]))\n",
    "spam_test[:, 0:spam_test_tight.shape[1]] = spam_test_tight\n"
   ]
  },
  {
   "cell_type": "markdown",
   "metadata": {},
   "source": [
    "## Now let's implement a ham/spam email classifier. Please refer to the PDF file for details"
   ]
  },
  {
   "cell_type": "code",
   "execution_count": 110,
   "metadata": {},
   "outputs": [
    {
     "name": "stdout",
     "output_type": "stream",
     "text": [
      "[30032 75525 38175 45152  9493 65397 37567 13612 56929  9452]\n",
      "0.9857315598548972\n",
      "0.9750223015165032\n",
      "0.9724199288256228\n"
     ]
    }
   ],
   "source": [
    "from likelihood import likelihood\n",
    "# TODO\n",
    "# Implement a ham/spam email classifier, and calculate the accuracy of your classifier\n",
    "\n",
    "# Hint: you can directly do matrix multiply between scipy.sparse.coo_matrix and numpy.array.\n",
    "# Specifically, you can use sparse_matrix * np_array to do this. Note that when you use \"*\" operator\n",
    "# between numpy array, this is typically an elementwise multiply.\n",
    "\n",
    "# begin answer\n",
    "import math\n",
    "l = likelihood(x)\n",
    "s = np.array(l[1,:]/l[0,:])\n",
    "k = s.flatten()\n",
    "v = np.flip(np.sort(k))\n",
    "i = np.argsort(-k)\n",
    "res = i[:10]\n",
    "print(res)\n",
    "\n",
    "\n",
    "\n",
    "\n",
    "\n",
    "\n",
    "\n",
    "spam_test_size = spam_test.shape[0]\n",
    "ham_test_size = ham_test.shape[0]\n",
    "ham_l = num_ham_train/(num_ham_train+num_spam_train)\n",
    "spam_l = num_spam_train/(num_ham_train+num_spam_train)\n",
    "\n",
    "tp = fp = fn = tn = 0\n",
    "for i in range(0, spam_test_size):\n",
    "    if(spam_test[i, :] * np.log(np.array(l[1,:]).T) + math.log(spam_l) > spam_test[i, :] * np.log(np.array(l[0,:]).T)+math.log(ham_l)):\n",
    "       tp = tp + 1\n",
    "    else:\n",
    "       fn = fn + 1\n",
    "for i in range(0, ham_test_size):\n",
    "    if(ham_test[i, :] * np.log(np.array(l[0,:]).T) + math.log(ham_l) > ham_test[i, :] * np.log(np.array(l[1,:]).T)+math.log(spam_l)):\n",
    "       tn = tn +1\n",
    "    else :\n",
    "       fp = fp + 1\n",
    "acc = (tn + tp)/(ham_test_size+spam_test_size)\n",
    "precision = tp/(tp+fp)\n",
    "recall = tp/(tp+fn)\n",
    "print(acc)\n",
    "print(precision)\n",
    "print(recall)\n",
    "# end answer"
   ]
  },
  {
   "cell_type": "code",
   "execution_count": null,
   "metadata": {},
   "outputs": [],
   "source": []
  },
  {
   "cell_type": "code",
   "execution_count": null,
   "metadata": {},
   "outputs": [],
   "source": []
  },
  {
   "cell_type": "code",
   "execution_count": null,
   "metadata": {},
   "outputs": [],
   "source": []
  }
 ],
 "metadata": {
  "kernelspec": {
   "display_name": "Python 3",
   "language": "python",
   "name": "python3"
  },
  "language_info": {
   "codemirror_mode": {
    "name": "ipython",
    "version": 3
   },
   "file_extension": ".py",
   "mimetype": "text/x-python",
   "name": "python",
   "nbconvert_exporter": "python",
   "pygments_lexer": "ipython3",
   "version": "3.7.0"
  }
 },
 "nbformat": 4,
 "nbformat_minor": 2
}
